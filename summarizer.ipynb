{
  "nbformat": 4,
  "nbformat_minor": 0,
  "metadata": {
    "colab": {
      "name": "summarizer.ipynb",
      "provenance": [],
      "collapsed_sections": []
    },
    "kernelspec": {
      "name": "python3",
      "display_name": "Python 3"
    }
  },
  "cells": [
    {
      "cell_type": "code",
      "metadata": {
        "colab": {
          "base_uri": "https://localhost:8080/"
        },
        "id": "n79rMvh-bFLj",
        "outputId": "9a418728-79ba-47c3-db0f-052964d7b35e"
      },
      "source": [
        "!pip install gradio\n",
        "!pip install sumy"
      ],
      "execution_count": null,
      "outputs": [
        {
          "output_type": "stream",
          "text": [
            "Collecting gradio\n",
            "\u001b[?25l  Downloading https://files.pythonhosted.org/packages/26/44/c02fac051c04a3a71980e5e196398c3a4ae5f127f2ef2ef02745faf6b9e4/gradio-1.6.4-py3-none-any.whl (1.1MB)\n",
            "\r\u001b[K     |▎                               | 10kB 13.3MB/s eta 0:00:01\r\u001b[K     |▋                               | 20kB 18.0MB/s eta 0:00:01\r\u001b[K     |▉                               | 30kB 12.1MB/s eta 0:00:01\r\u001b[K     |█▏                              | 40kB 10.0MB/s eta 0:00:01\r\u001b[K     |█▌                              | 51kB 8.8MB/s eta 0:00:01\r\u001b[K     |█▊                              | 61kB 7.7MB/s eta 0:00:01\r\u001b[K     |██                              | 71kB 8.0MB/s eta 0:00:01\r\u001b[K     |██▎                             | 81kB 8.7MB/s eta 0:00:01\r\u001b[K     |██▋                             | 92kB 8.4MB/s eta 0:00:01\r\u001b[K     |███                             | 102kB 8.7MB/s eta 0:00:01\r\u001b[K     |███▏                            | 112kB 8.7MB/s eta 0:00:01\r\u001b[K     |███▌                            | 122kB 8.7MB/s eta 0:00:01\r\u001b[K     |███▉                            | 133kB 8.7MB/s eta 0:00:01\r\u001b[K     |████                            | 143kB 8.7MB/s eta 0:00:01\r\u001b[K     |████▍                           | 153kB 8.7MB/s eta 0:00:01\r\u001b[K     |████▋                           | 163kB 8.7MB/s eta 0:00:01\r\u001b[K     |█████                           | 174kB 8.7MB/s eta 0:00:01\r\u001b[K     |█████▎                          | 184kB 8.7MB/s eta 0:00:01\r\u001b[K     |█████▌                          | 194kB 8.7MB/s eta 0:00:01\r\u001b[K     |█████▉                          | 204kB 8.7MB/s eta 0:00:01\r\u001b[K     |██████▏                         | 215kB 8.7MB/s eta 0:00:01\r\u001b[K     |██████▍                         | 225kB 8.7MB/s eta 0:00:01\r\u001b[K     |██████▊                         | 235kB 8.7MB/s eta 0:00:01\r\u001b[K     |███████                         | 245kB 8.7MB/s eta 0:00:01\r\u001b[K     |███████▎                        | 256kB 8.7MB/s eta 0:00:01\r\u001b[K     |███████▋                        | 266kB 8.7MB/s eta 0:00:01\r\u001b[K     |███████▉                        | 276kB 8.7MB/s eta 0:00:01\r\u001b[K     |████████▏                       | 286kB 8.7MB/s eta 0:00:01\r\u001b[K     |████████▌                       | 296kB 8.7MB/s eta 0:00:01\r\u001b[K     |████████▊                       | 307kB 8.7MB/s eta 0:00:01\r\u001b[K     |█████████                       | 317kB 8.7MB/s eta 0:00:01\r\u001b[K     |█████████▎                      | 327kB 8.7MB/s eta 0:00:01\r\u001b[K     |█████████▋                      | 337kB 8.7MB/s eta 0:00:01\r\u001b[K     |██████████                      | 348kB 8.7MB/s eta 0:00:01\r\u001b[K     |██████████▏                     | 358kB 8.7MB/s eta 0:00:01\r\u001b[K     |██████████▌                     | 368kB 8.7MB/s eta 0:00:01\r\u001b[K     |██████████▊                     | 378kB 8.7MB/s eta 0:00:01\r\u001b[K     |███████████                     | 389kB 8.7MB/s eta 0:00:01\r\u001b[K     |███████████▍                    | 399kB 8.7MB/s eta 0:00:01\r\u001b[K     |███████████▋                    | 409kB 8.7MB/s eta 0:00:01\r\u001b[K     |████████████                    | 419kB 8.7MB/s eta 0:00:01\r\u001b[K     |████████████▎                   | 430kB 8.7MB/s eta 0:00:01\r\u001b[K     |████████████▌                   | 440kB 8.7MB/s eta 0:00:01\r\u001b[K     |████████████▉                   | 450kB 8.7MB/s eta 0:00:01\r\u001b[K     |█████████████                   | 460kB 8.7MB/s eta 0:00:01\r\u001b[K     |█████████████▍                  | 471kB 8.7MB/s eta 0:00:01\r\u001b[K     |█████████████▊                  | 481kB 8.7MB/s eta 0:00:01\r\u001b[K     |██████████████                  | 491kB 8.7MB/s eta 0:00:01\r\u001b[K     |██████████████▎                 | 501kB 8.7MB/s eta 0:00:01\r\u001b[K     |██████████████▋                 | 512kB 8.7MB/s eta 0:00:01\r\u001b[K     |██████████████▉                 | 522kB 8.7MB/s eta 0:00:01\r\u001b[K     |███████████████▏                | 532kB 8.7MB/s eta 0:00:01\r\u001b[K     |███████████████▍                | 542kB 8.7MB/s eta 0:00:01\r\u001b[K     |███████████████▊                | 552kB 8.7MB/s eta 0:00:01\r\u001b[K     |████████████████                | 563kB 8.7MB/s eta 0:00:01\r\u001b[K     |████████████████▎               | 573kB 8.7MB/s eta 0:00:01\r\u001b[K     |████████████████▋               | 583kB 8.7MB/s eta 0:00:01\r\u001b[K     |█████████████████               | 593kB 8.7MB/s eta 0:00:01\r\u001b[K     |█████████████████▏              | 604kB 8.7MB/s eta 0:00:01\r\u001b[K     |█████████████████▌              | 614kB 8.7MB/s eta 0:00:01\r\u001b[K     |█████████████████▊              | 624kB 8.7MB/s eta 0:00:01\r\u001b[K     |██████████████████              | 634kB 8.7MB/s eta 0:00:01\r\u001b[K     |██████████████████▍             | 645kB 8.7MB/s eta 0:00:01\r\u001b[K     |██████████████████▋             | 655kB 8.7MB/s eta 0:00:01\r\u001b[K     |███████████████████             | 665kB 8.7MB/s eta 0:00:01\r\u001b[K     |███████████████████▎            | 675kB 8.7MB/s eta 0:00:01\r\u001b[K     |███████████████████▌            | 686kB 8.7MB/s eta 0:00:01\r\u001b[K     |███████████████████▉            | 696kB 8.7MB/s eta 0:00:01\r\u001b[K     |████████████████████            | 706kB 8.7MB/s eta 0:00:01\r\u001b[K     |████████████████████▍           | 716kB 8.7MB/s eta 0:00:01\r\u001b[K     |████████████████████▊           | 727kB 8.7MB/s eta 0:00:01\r\u001b[K     |█████████████████████           | 737kB 8.7MB/s eta 0:00:01\r\u001b[K     |█████████████████████▎          | 747kB 8.7MB/s eta 0:00:01\r\u001b[K     |█████████████████████▌          | 757kB 8.7MB/s eta 0:00:01\r\u001b[K     |█████████████████████▉          | 768kB 8.7MB/s eta 0:00:01\r\u001b[K     |██████████████████████▏         | 778kB 8.7MB/s eta 0:00:01\r\u001b[K     |██████████████████████▍         | 788kB 8.7MB/s eta 0:00:01\r\u001b[K     |██████████████████████▊         | 798kB 8.7MB/s eta 0:00:01\r\u001b[K     |███████████████████████         | 808kB 8.7MB/s eta 0:00:01\r\u001b[K     |███████████████████████▎        | 819kB 8.7MB/s eta 0:00:01\r\u001b[K     |███████████████████████▋        | 829kB 8.7MB/s eta 0:00:01\r\u001b[K     |███████████████████████▉        | 839kB 8.7MB/s eta 0:00:01\r\u001b[K     |████████████████████████▏       | 849kB 8.7MB/s eta 0:00:01\r\u001b[K     |████████████████████████▌       | 860kB 8.7MB/s eta 0:00:01\r\u001b[K     |████████████████████████▊       | 870kB 8.7MB/s eta 0:00:01\r\u001b[K     |█████████████████████████       | 880kB 8.7MB/s eta 0:00:01\r\u001b[K     |█████████████████████████▍      | 890kB 8.7MB/s eta 0:00:01\r\u001b[K     |█████████████████████████▋      | 901kB 8.7MB/s eta 0:00:01\r\u001b[K     |██████████████████████████      | 911kB 8.7MB/s eta 0:00:01\r\u001b[K     |██████████████████████████▏     | 921kB 8.7MB/s eta 0:00:01\r\u001b[K     |██████████████████████████▌     | 931kB 8.7MB/s eta 0:00:01\r\u001b[K     |██████████████████████████▉     | 942kB 8.7MB/s eta 0:00:01\r\u001b[K     |███████████████████████████     | 952kB 8.7MB/s eta 0:00:01\r\u001b[K     |███████████████████████████▍    | 962kB 8.7MB/s eta 0:00:01\r\u001b[K     |███████████████████████████▊    | 972kB 8.7MB/s eta 0:00:01\r\u001b[K     |████████████████████████████    | 983kB 8.7MB/s eta 0:00:01\r\u001b[K     |████████████████████████████▎   | 993kB 8.7MB/s eta 0:00:01\r\u001b[K     |████████████████████████████▌   | 1.0MB 8.7MB/s eta 0:00:01\r\u001b[K     |████████████████████████████▉   | 1.0MB 8.7MB/s eta 0:00:01\r\u001b[K     |█████████████████████████████▏  | 1.0MB 8.7MB/s eta 0:00:01\r\u001b[K     |█████████████████████████████▍  | 1.0MB 8.7MB/s eta 0:00:01\r\u001b[K     |█████████████████████████████▊  | 1.0MB 8.7MB/s eta 0:00:01\r\u001b[K     |██████████████████████████████  | 1.1MB 8.7MB/s eta 0:00:01\r\u001b[K     |██████████████████████████████▎ | 1.1MB 8.7MB/s eta 0:00:01\r\u001b[K     |██████████████████████████████▋ | 1.1MB 8.7MB/s eta 0:00:01\r\u001b[K     |██████████████████████████████▉ | 1.1MB 8.7MB/s eta 0:00:01\r\u001b[K     |███████████████████████████████▏| 1.1MB 8.7MB/s eta 0:00:01\r\u001b[K     |███████████████████████████████▌| 1.1MB 8.7MB/s eta 0:00:01\r\u001b[K     |███████████████████████████████▊| 1.1MB 8.7MB/s eta 0:00:01\r\u001b[K     |████████████████████████████████| 1.1MB 8.7MB/s \n",
            "\u001b[?25hRequirement already satisfied: numpy in /usr/local/lib/python3.7/dist-packages (from gradio) (1.19.5)\n",
            "Requirement already satisfied: scipy in /usr/local/lib/python3.7/dist-packages (from gradio) (1.4.1)\n",
            "Requirement already satisfied: librosa in /usr/local/lib/python3.7/dist-packages (from gradio) (0.8.0)\n",
            "Collecting flask-cachebuster\n",
            "  Downloading https://files.pythonhosted.org/packages/74/47/f3e1fedfaad965c81c2f17234636d72f71450f1b4522ca26d2b7eb4a0a74/Flask-CacheBuster-1.0.0.tar.gz\n",
            "Collecting Flask-Cors>=3.0.8\n",
            "  Downloading https://files.pythonhosted.org/packages/db/84/901e700de86604b1c4ef4b57110d4e947c218b9997adf5d38fa7da493bce/Flask_Cors-3.0.10-py2.py3-none-any.whl\n",
            "Requirement already satisfied: IPython in /usr/local/lib/python3.7/dist-packages (from gradio) (5.5.0)\n",
            "Collecting colorama>=0.3.9\n",
            "  Downloading https://files.pythonhosted.org/packages/44/98/5b86278fbbf250d239ae0ecb724f8572af1c91f4a11edf4d36a206189440/colorama-0.4.4-py2.py3-none-any.whl\n",
            "Requirement already satisfied: pandas in /usr/local/lib/python3.7/dist-packages (from gradio) (1.1.5)\n",
            "Requirement already satisfied: Flask>=1.1.1 in /usr/local/lib/python3.7/dist-packages (from gradio) (1.1.2)\n",
            "Requirement already satisfied: scikit-image in /usr/local/lib/python3.7/dist-packages (from gradio) (0.16.2)\n",
            "Collecting ffmpy\n",
            "  Downloading https://files.pythonhosted.org/packages/bf/e2/947df4b3d666bfdd2b0c6355d215c45d2d40f929451cb29a8a2995b29788/ffmpy-0.3.0.tar.gz\n",
            "Collecting paramiko\n",
            "\u001b[?25l  Downloading https://files.pythonhosted.org/packages/95/19/124e9287b43e6ff3ebb9cdea3e5e8e88475a873c05ccdf8b7e20d2c4201e/paramiko-2.7.2-py2.py3-none-any.whl (206kB)\n",
            "\u001b[K     |████████████████████████████████| 215kB 36.7MB/s \n",
            "\u001b[?25hRequirement already satisfied: requests in /usr/local/lib/python3.7/dist-packages (from gradio) (2.23.0)\n",
            "Collecting analytics-python\n",
            "  Downloading https://files.pythonhosted.org/packages/d3/37/c49d052f88655cd96445c36979fb63f69ef859e167eaff5706ca7c8a8ee3/analytics_python-1.2.9-py2.py3-none-any.whl\n",
            "Collecting markdown2\n",
            "  Downloading https://files.pythonhosted.org/packages/5d/be/3924cc1c0e12030b5225de2b4521f1dc729730773861475de26be64a0d2b/markdown2-2.4.0-py2.py3-none-any.whl\n",
            "Collecting Flask-BasicAuth\n",
            "  Downloading https://files.pythonhosted.org/packages/16/18/9726cac3c7cb9e5a1ac4523b3e508128136b37aadb3462c857a19318900e/Flask-BasicAuth-0.2.0.tar.gz\n",
            "Requirement already satisfied: scikit-learn!=0.19.0,>=0.14.0 in /usr/local/lib/python3.7/dist-packages (from librosa->gradio) (0.22.2.post1)\n",
            "Requirement already satisfied: joblib>=0.14 in /usr/local/lib/python3.7/dist-packages (from librosa->gradio) (1.0.1)\n",
            "Requirement already satisfied: numba>=0.43.0 in /usr/local/lib/python3.7/dist-packages (from librosa->gradio) (0.51.2)\n",
            "Requirement already satisfied: soundfile>=0.9.0 in /usr/local/lib/python3.7/dist-packages (from librosa->gradio) (0.10.3.post1)\n",
            "Requirement already satisfied: resampy>=0.2.2 in /usr/local/lib/python3.7/dist-packages (from librosa->gradio) (0.2.2)\n",
            "Requirement already satisfied: decorator>=3.0.0 in /usr/local/lib/python3.7/dist-packages (from librosa->gradio) (4.4.2)\n",
            "Requirement already satisfied: pooch>=1.0 in /usr/local/lib/python3.7/dist-packages (from librosa->gradio) (1.3.0)\n",
            "Requirement already satisfied: audioread>=2.0.0 in /usr/local/lib/python3.7/dist-packages (from librosa->gradio) (2.1.9)\n",
            "Requirement already satisfied: Six in /usr/local/lib/python3.7/dist-packages (from Flask-Cors>=3.0.8->gradio) (1.15.0)\n",
            "Requirement already satisfied: simplegeneric>0.8 in /usr/local/lib/python3.7/dist-packages (from IPython->gradio) (0.8.1)\n",
            "Requirement already satisfied: traitlets>=4.2 in /usr/local/lib/python3.7/dist-packages (from IPython->gradio) (5.0.5)\n",
            "Requirement already satisfied: pygments in /usr/local/lib/python3.7/dist-packages (from IPython->gradio) (2.6.1)\n",
            "Requirement already satisfied: setuptools>=18.5 in /usr/local/lib/python3.7/dist-packages (from IPython->gradio) (54.0.0)\n",
            "Requirement already satisfied: pickleshare in /usr/local/lib/python3.7/dist-packages (from IPython->gradio) (0.7.5)\n",
            "Requirement already satisfied: prompt-toolkit<2.0.0,>=1.0.4 in /usr/local/lib/python3.7/dist-packages (from IPython->gradio) (1.0.18)\n",
            "Requirement already satisfied: pexpect; sys_platform != \"win32\" in /usr/local/lib/python3.7/dist-packages (from IPython->gradio) (4.8.0)\n",
            "Requirement already satisfied: python-dateutil>=2.7.3 in /usr/local/lib/python3.7/dist-packages (from pandas->gradio) (2.8.1)\n",
            "Requirement already satisfied: pytz>=2017.2 in /usr/local/lib/python3.7/dist-packages (from pandas->gradio) (2018.9)\n",
            "Requirement already satisfied: Werkzeug>=0.15 in /usr/local/lib/python3.7/dist-packages (from Flask>=1.1.1->gradio) (1.0.1)\n",
            "Requirement already satisfied: Jinja2>=2.10.1 in /usr/local/lib/python3.7/dist-packages (from Flask>=1.1.1->gradio) (2.11.3)\n",
            "Requirement already satisfied: itsdangerous>=0.24 in /usr/local/lib/python3.7/dist-packages (from Flask>=1.1.1->gradio) (1.1.0)\n",
            "Requirement already satisfied: click>=5.1 in /usr/local/lib/python3.7/dist-packages (from Flask>=1.1.1->gradio) (7.1.2)\n",
            "Requirement already satisfied: PyWavelets>=0.4.0 in /usr/local/lib/python3.7/dist-packages (from scikit-image->gradio) (1.1.1)\n",
            "Requirement already satisfied: imageio>=2.3.0 in /usr/local/lib/python3.7/dist-packages (from scikit-image->gradio) (2.4.1)\n",
            "Requirement already satisfied: pillow>=4.3.0 in /usr/local/lib/python3.7/dist-packages (from scikit-image->gradio) (7.0.0)\n",
            "Requirement already satisfied: networkx>=2.0 in /usr/local/lib/python3.7/dist-packages (from scikit-image->gradio) (2.5)\n",
            "Requirement already satisfied: matplotlib!=3.0.0,>=2.0.0 in /usr/local/lib/python3.7/dist-packages (from scikit-image->gradio) (3.2.2)\n",
            "Collecting pynacl>=1.0.1\n",
            "\u001b[?25l  Downloading https://files.pythonhosted.org/packages/9d/57/2f5e6226a674b2bcb6db531e8b383079b678df5b10cdaa610d6cf20d77ba/PyNaCl-1.4.0-cp35-abi3-manylinux1_x86_64.whl (961kB)\n",
            "\u001b[K     |████████████████████████████████| 962kB 30.5MB/s \n",
            "\u001b[?25hCollecting bcrypt>=3.1.3\n",
            "\u001b[?25l  Downloading https://files.pythonhosted.org/packages/26/70/6d218afbe4c73538053c1016dd631e8f25fffc10cd01f5c272d7acf3c03d/bcrypt-3.2.0-cp36-abi3-manylinux2010_x86_64.whl (63kB)\n",
            "\u001b[K     |████████████████████████████████| 71kB 7.4MB/s \n",
            "\u001b[?25hCollecting cryptography>=2.5\n",
            "\u001b[?25l  Downloading https://files.pythonhosted.org/packages/f8/1f/acde6ff69864c5e78b56488e3afd93c1ccc8c2651186e2a5f93d93f64859/cryptography-3.4.6-cp36-abi3-manylinux2014_x86_64.whl (3.2MB)\n",
            "\u001b[K     |████████████████████████████████| 3.2MB 36.8MB/s \n",
            "\u001b[?25hRequirement already satisfied: urllib3!=1.25.0,!=1.25.1,<1.26,>=1.21.1 in /usr/local/lib/python3.7/dist-packages (from requests->gradio) (1.24.3)\n",
            "Requirement already satisfied: idna<3,>=2.5 in /usr/local/lib/python3.7/dist-packages (from requests->gradio) (2.10)\n",
            "Requirement already satisfied: certifi>=2017.4.17 in /usr/local/lib/python3.7/dist-packages (from requests->gradio) (2020.12.5)\n",
            "Requirement already satisfied: chardet<4,>=3.0.2 in /usr/local/lib/python3.7/dist-packages (from requests->gradio) (3.0.4)\n",
            "Requirement already satisfied: llvmlite<0.35,>=0.34.0.dev0 in /usr/local/lib/python3.7/dist-packages (from numba>=0.43.0->librosa->gradio) (0.34.0)\n",
            "Requirement already satisfied: cffi>=1.0 in /usr/local/lib/python3.7/dist-packages (from soundfile>=0.9.0->librosa->gradio) (1.14.5)\n",
            "Requirement already satisfied: packaging in /usr/local/lib/python3.7/dist-packages (from pooch>=1.0->librosa->gradio) (20.9)\n",
            "Requirement already satisfied: appdirs in /usr/local/lib/python3.7/dist-packages (from pooch>=1.0->librosa->gradio) (1.4.4)\n",
            "Requirement already satisfied: ipython-genutils in /usr/local/lib/python3.7/dist-packages (from traitlets>=4.2->IPython->gradio) (0.2.0)\n",
            "Requirement already satisfied: wcwidth in /usr/local/lib/python3.7/dist-packages (from prompt-toolkit<2.0.0,>=1.0.4->IPython->gradio) (0.2.5)\n",
            "Requirement already satisfied: ptyprocess>=0.5 in /usr/local/lib/python3.7/dist-packages (from pexpect; sys_platform != \"win32\"->IPython->gradio) (0.7.0)\n",
            "Requirement already satisfied: MarkupSafe>=0.23 in /usr/local/lib/python3.7/dist-packages (from Jinja2>=2.10.1->Flask>=1.1.1->gradio) (1.1.1)\n",
            "Requirement already satisfied: kiwisolver>=1.0.1 in /usr/local/lib/python3.7/dist-packages (from matplotlib!=3.0.0,>=2.0.0->scikit-image->gradio) (1.3.1)\n",
            "Requirement already satisfied: cycler>=0.10 in /usr/local/lib/python3.7/dist-packages (from matplotlib!=3.0.0,>=2.0.0->scikit-image->gradio) (0.10.0)\n",
            "Requirement already satisfied: pyparsing!=2.0.4,!=2.1.2,!=2.1.6,>=2.0.1 in /usr/local/lib/python3.7/dist-packages (from matplotlib!=3.0.0,>=2.0.0->scikit-image->gradio) (2.4.7)\n",
            "Requirement already satisfied: pycparser in /usr/local/lib/python3.7/dist-packages (from cffi>=1.0->soundfile>=0.9.0->librosa->gradio) (2.20)\n",
            "Building wheels for collected packages: flask-cachebuster, ffmpy, Flask-BasicAuth\n",
            "  Building wheel for flask-cachebuster (setup.py) ... \u001b[?25l\u001b[?25hdone\n",
            "  Created wheel for flask-cachebuster: filename=Flask_CacheBuster-1.0.0-cp37-none-any.whl size=3372 sha256=fa9c4b42579d94031100c7997dc08305eced127d74b9c9acc04d66d4a765c1e2\n",
            "  Stored in directory: /root/.cache/pip/wheels/9f/fc/a7/ab5712c3ace9a8f97276465cc2937316ab8063c1fea488ea77\n",
            "  Building wheel for ffmpy (setup.py) ... \u001b[?25l\u001b[?25hdone\n",
            "  Created wheel for ffmpy: filename=ffmpy-0.3.0-cp37-none-any.whl size=4710 sha256=de88f023d23bd15529a87a9bfdab7711202f4885e309a28dafe0fb44640a7cdf\n",
            "  Stored in directory: /root/.cache/pip/wheels/cc/ac/c4/bef572cb7e52bfca170046f567e64858632daf77e0f34e5a74\n",
            "  Building wheel for Flask-BasicAuth (setup.py) ... \u001b[?25l\u001b[?25hdone\n",
            "  Created wheel for Flask-BasicAuth: filename=Flask_BasicAuth-0.2.0-cp37-none-any.whl size=4232 sha256=35b7f9eda6e0a6041f98c2b98d503e00ec59c0f86a1e60e98331890f3ff87230\n",
            "  Stored in directory: /root/.cache/pip/wheels/8a/d5/8c/1f40bffc038e6ab2865836cc303e312e16de7b6b577be16b25\n",
            "Successfully built flask-cachebuster ffmpy Flask-BasicAuth\n",
            "Installing collected packages: flask-cachebuster, Flask-Cors, colorama, ffmpy, pynacl, bcrypt, cryptography, paramiko, analytics-python, markdown2, Flask-BasicAuth, gradio\n",
            "Successfully installed Flask-BasicAuth-0.2.0 Flask-Cors-3.0.10 analytics-python-1.2.9 bcrypt-3.2.0 colorama-0.4.4 cryptography-3.4.6 ffmpy-0.3.0 flask-cachebuster-1.0.0 gradio-1.6.4 markdown2-2.4.0 paramiko-2.7.2 pynacl-1.4.0\n",
            "Collecting sumy\n",
            "\u001b[?25l  Downloading https://files.pythonhosted.org/packages/61/20/8abf92617ec80a2ebaec8dc1646a790fc9656a4a4377ddb9f0cc90bc9326/sumy-0.8.1-py2.py3-none-any.whl (83kB)\n",
            "\u001b[K     |████████████████████████████████| 92kB 4.8MB/s \n",
            "\u001b[?25hCollecting breadability>=0.1.20\n",
            "  Downloading https://files.pythonhosted.org/packages/ad/2d/bb6c9b381e6b6a432aa2ffa8f4afdb2204f1ff97cfcc0766a5b7683fec43/breadability-0.1.20.tar.gz\n",
            "Collecting pycountry>=18.2.23\n",
            "\u001b[?25l  Downloading https://files.pythonhosted.org/packages/76/73/6f1a412f14f68c273feea29a6ea9b9f1e268177d32e0e69ad6790d306312/pycountry-20.7.3.tar.gz (10.1MB)\n",
            "\u001b[K     |████████████████████████████████| 10.1MB 10.7MB/s \n",
            "\u001b[?25hRequirement already satisfied: nltk>=3.0.2 in /usr/local/lib/python3.7/dist-packages (from sumy) (3.2.5)\n",
            "Requirement already satisfied: docopt<0.7,>=0.6.1 in /usr/local/lib/python3.7/dist-packages (from sumy) (0.6.2)\n",
            "Requirement already satisfied: requests>=2.7.0 in /usr/local/lib/python3.7/dist-packages (from sumy) (2.23.0)\n",
            "Requirement already satisfied: chardet in /usr/local/lib/python3.7/dist-packages (from breadability>=0.1.20->sumy) (3.0.4)\n",
            "Requirement already satisfied: lxml>=2.0 in /usr/local/lib/python3.7/dist-packages (from breadability>=0.1.20->sumy) (4.2.6)\n",
            "Requirement already satisfied: six in /usr/local/lib/python3.7/dist-packages (from nltk>=3.0.2->sumy) (1.15.0)\n",
            "Requirement already satisfied: idna<3,>=2.5 in /usr/local/lib/python3.7/dist-packages (from requests>=2.7.0->sumy) (2.10)\n",
            "Requirement already satisfied: urllib3!=1.25.0,!=1.25.1,<1.26,>=1.21.1 in /usr/local/lib/python3.7/dist-packages (from requests>=2.7.0->sumy) (1.24.3)\n",
            "Requirement already satisfied: certifi>=2017.4.17 in /usr/local/lib/python3.7/dist-packages (from requests>=2.7.0->sumy) (2020.12.5)\n",
            "Building wheels for collected packages: breadability, pycountry\n",
            "  Building wheel for breadability (setup.py) ... \u001b[?25l\u001b[?25hdone\n",
            "  Created wheel for breadability: filename=breadability-0.1.20-py2.py3-none-any.whl size=21680 sha256=98ad96203237aff6128c95c8c596056e17c5824e7e43303a92f11cedfc0626be\n",
            "  Stored in directory: /root/.cache/pip/wheels/5a/4d/a1/510b12c5e65e0b2b3ce539b2af66da0fc57571e528924f4a52\n",
            "  Building wheel for pycountry (setup.py) ... \u001b[?25l\u001b[?25hdone\n",
            "  Created wheel for pycountry: filename=pycountry-20.7.3-py2.py3-none-any.whl size=10746863 sha256=1e7dbebafd1f1160523cd5d745953dc7bb71b74b1436beda8a09dff572719281\n",
            "  Stored in directory: /root/.cache/pip/wheels/33/4e/a6/be297e6b83567e537bed9df4a93f8590ec01c1acfbcd405348\n",
            "Successfully built breadability pycountry\n",
            "Installing collected packages: breadability, pycountry, sumy\n",
            "Successfully installed breadability-0.1.20 pycountry-20.7.3 sumy-0.8.1\n"
          ],
          "name": "stdout"
        }
      ]
    },
    {
      "cell_type": "code",
      "metadata": {
        "colab": {
          "base_uri": "https://localhost:8080/"
        },
        "id": "2IVuVtnNU1aT",
        "outputId": "93e0ae39-821b-4f64-913e-6aec6a85fd1c"
      },
      "source": [
        "import re\n",
        "import nltk\n",
        "nltk.download('punkt')\n",
        "from nltk.tokenize import word_tokenize, sent_tokenize\n",
        "nltk.download('stopwords')\n",
        "stopwords = nltk.corpus.stopwords.words('english')\n",
        "\n",
        "from sumy.parsers.plaintext import PlaintextParser\n",
        "from sumy.nlp.tokenizers import Tokenizer\n",
        "from sumy.summarizers.lex_rank import LexRankSummarizer\n",
        "\n",
        "\n",
        "import heapq\n",
        "import gradio as gr\n"
      ],
      "execution_count": null,
      "outputs": [
        {
          "output_type": "stream",
          "text": [
            "[nltk_data] Downloading package punkt to /root/nltk_data...\n",
            "[nltk_data]   Unzipping tokenizers/punkt.zip.\n",
            "[nltk_data] Downloading package stopwords to /root/nltk_data...\n",
            "[nltk_data]   Unzipping corpora/stopwords.zip.\n"
          ],
          "name": "stdout"
        }
      ]
    },
    {
      "cell_type": "code",
      "metadata": {
        "id": "ozi2jNHCbAb5"
      },
      "source": [
        "def summary(text,choice):\n",
        "  if choice == \"word_freq\":\n",
        "    article_text = re.sub(r'\\s+', ' ', text) #replace multiple whitespace with single space\n",
        "    # Removing special characters and digits\n",
        "    formatted_article_text = re.sub('[^a-zA-Z,.]', ' ', article_text )\n",
        "    formatted_article_text = re.sub(r'\\s+', ' ', formatted_article_text)\n",
        "    #Converting Text To Sentences\n",
        "\n",
        "    sentence_list = nltk.sent_tokenize(formatted_article_text)\n",
        "    \n",
        "    word_freq = {}\n",
        "    sent_scores = {}\n",
        "\n",
        "    for word in word_tokenize(formatted_article_text):\n",
        "      if word.lower() not in stopwords:\n",
        "        if word not in word_freq.keys():\n",
        "          word_freq[word] = 1\n",
        "        else:\n",
        "          word_freq[word] += 1\n",
        "    max_freq = max(word_freq.values()) #max freq from the frequencies of words\n",
        "    for word in word_freq.keys():\n",
        "      word_freq[word] = (word_freq[word]/max_freq)\n",
        "    for sent in sentence_list:\n",
        "        for word in nltk.word_tokenize(sent.lower()):\n",
        "            if word in word_freq.keys():\n",
        "              if sent not in sent_scores.keys():\n",
        "                sent_scores[sent] = word_freq[word]\n",
        "              else:\n",
        "                sent_scores[sent] += word_freq[word]\n",
        "\n",
        "    summary_sentences = heapq.nlargest(7, sent_scores, key=sent_scores.get)\n",
        "    summary_final = ' '.join(summary_sentences)\n",
        "    return summary_final\n",
        "\n",
        "  elif choice ==\"LexRank\":\n",
        "\n",
        "    parser = PlaintextParser.from_string(text,Tokenizer('english'))\n",
        "    summarizer = LexRankSummarizer()\n",
        "    lexRank_summary = summarizer(parser.document, 7) \n",
        "\n",
        "    summary_final = \"\"\n",
        "    for sentence in lexRank_summary:\n",
        "      summary_final += \" \"+str(sentence)\n",
        "    return summary_final\n",
        "\n"
      ],
      "execution_count": null,
      "outputs": []
    },
    {
      "cell_type": "code",
      "metadata": {
        "colab": {
          "base_uri": "https://localhost:8080/",
          "height": 589
        },
        "id": "AinPLS6ucXkV",
        "outputId": "9ed4d503-3a97-408b-deab-dda2238341d9"
      },
      "source": [
        "iface = gr.Interface(fn=summary, \n",
        "   inputs = [gr.inputs.Textbox(lines=5, placeholder=\"Enter Text Here...\"), gr.inputs.Radio([\"word_freq\", \"LexRank\"])],outputs=\"text\")\n",
        "\n",
        "iface.launch(debug=True)\n"
      ],
      "execution_count": null,
      "outputs": [
        {
          "output_type": "stream",
          "text": [
            "Colab notebook detected. This cell will run indefinitely so that you can see errors and logs. To turn off, set debug=False in launch().\n",
            "This share link will expire in 24 hours. If you need a permanent link, visit: https://gradio.app/introducing-hosted (NEW!)\n",
            "Running on External URL: https://36573.gradio.app\n",
            "Interface loading below...\n"
          ],
          "name": "stdout"
        },
        {
          "output_type": "display_data",
          "data": {
            "text/html": [
              "\n",
              "        <iframe\n",
              "            width=\"1000\"\n",
              "            height=\"500\"\n",
              "            src=\"https://36573.gradio.app\"\n",
              "            frameborder=\"0\"\n",
              "            allowfullscreen\n",
              "        ></iframe>\n",
              "        "
            ],
            "text/plain": [
              "<IPython.lib.display.IFrame at 0x7ff97e0ff7d0>"
            ]
          },
          "metadata": {
            "tags": []
          }
        }
      ]
    },
    {
      "cell_type": "code",
      "metadata": {
        "id": "qDTFEKFHcspG"
      },
      "source": [
        ""
      ],
      "execution_count": null,
      "outputs": []
    }
  ]
}